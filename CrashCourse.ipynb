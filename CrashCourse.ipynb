{
 "cells": [
  {
   "attachments": {},
   "cell_type": "markdown",
   "metadata": {},
   "source": [
    "### Backend (Python refresher)\n",
    "- Intro\n",
    "- IDE Setup\n",
    "    - Jupyter notebook, \n",
    "    - Pycharm\n",
    "    - VSCode\n",
    "    - IDLE\n",
    "- Datatypes\n",
    "    - Numbers\n",
    "    - Strings\n",
    "    - Printing\n",
    "    - Lists\n",
    "    - Dictionaries\n",
    "    - Booleans\n",
    "    - Tuples\n",
    "    - Sets\n",
    "- Comparison Operators\n",
    "- if, elif else\n",
    "- for loops\n",
    "- while loops\n",
    "- range()\n",
    "- list comprehension\n",
    "- functions\n",
    "- lambda expressions\n",
    "- map and filter\n",
    "- methods\n"
   ]
  },
  {
   "attachments": {},
   "cell_type": "markdown",
   "metadata": {},
   "source": [
    "##### Numbers\n",
    "\n",
    "Two types\n",
    "- integers\n",
    "- floating points (numbers with decimal points)"
   ]
  },
  {
   "cell_type": "code",
   "execution_count": 272,
   "metadata": {},
   "outputs": [
    {
     "data": {
      "text/plain": [
       "2"
      ]
     },
     "execution_count": 272,
     "metadata": {},
     "output_type": "execute_result"
    }
   ],
   "source": [
    "1+1"
   ]
  },
  {
   "cell_type": "code",
   "execution_count": 273,
   "metadata": {},
   "outputs": [
    {
     "data": {
      "text/plain": [
       "1"
      ]
     },
     "execution_count": 273,
     "metadata": {},
     "output_type": "execute_result"
    }
   ],
   "source": [
    "2-1"
   ]
  },
  {
   "cell_type": "code",
   "execution_count": 274,
   "metadata": {},
   "outputs": [
    {
     "data": {
      "text/plain": [
       "12"
      ]
     },
     "execution_count": 274,
     "metadata": {},
     "output_type": "execute_result"
    }
   ],
   "source": [
    "3*4"
   ]
  },
  {
   "cell_type": "code",
   "execution_count": 275,
   "metadata": {},
   "outputs": [
    {
     "data": {
      "text/plain": [
       "2.0"
      ]
     },
     "execution_count": 275,
     "metadata": {},
     "output_type": "execute_result"
    }
   ],
   "source": [
    "4/2"
   ]
  },
  {
   "cell_type": "code",
   "execution_count": 276,
   "metadata": {},
   "outputs": [
    {
     "data": {
      "text/plain": [
       "0.5"
      ]
     },
     "execution_count": 276,
     "metadata": {},
     "output_type": "execute_result"
    }
   ],
   "source": [
    "1.5/3"
   ]
  },
  {
   "cell_type": "code",
   "execution_count": 277,
   "metadata": {},
   "outputs": [
    {
     "data": {
      "text/plain": [
       "16"
      ]
     },
     "execution_count": 277,
     "metadata": {},
     "output_type": "execute_result"
    }
   ],
   "source": [
    "2 ** 4"
   ]
  },
  {
   "cell_type": "code",
   "execution_count": 278,
   "metadata": {},
   "outputs": [
    {
     "data": {
      "text/plain": [
       "0.5"
      ]
     },
     "execution_count": 278,
     "metadata": {},
     "output_type": "execute_result"
    }
   ],
   "source": [
    "#If you divide 2 ints you can still get a float \n",
    "1/2"
   ]
  },
  {
   "cell_type": "code",
   "execution_count": 279,
   "metadata": {},
   "outputs": [
    {
     "data": {
      "text/plain": [
       "16"
      ]
     },
     "execution_count": 279,
     "metadata": {},
     "output_type": "execute_result"
    }
   ],
   "source": [
    "#Exponentiation\n",
    "#2^4\n",
    "2**4"
   ]
  },
  {
   "cell_type": "code",
   "execution_count": 280,
   "metadata": {},
   "outputs": [
    {
     "data": {
      "text/plain": [
       "22"
      ]
     },
     "execution_count": 280,
     "metadata": {},
     "output_type": "execute_result"
    }
   ],
   "source": [
    "#python follows order of operations\n",
    "#use parenthesis to clarify the order\n",
    "2+3*5+5"
   ]
  },
  {
   "cell_type": "code",
   "execution_count": 281,
   "metadata": {},
   "outputs": [
    {
     "data": {
      "text/plain": [
       "50"
      ]
     },
     "execution_count": 281,
     "metadata": {},
     "output_type": "execute_result"
    }
   ],
   "source": [
    "#or with brackets\n",
    "(2+3) * (5+5)"
   ]
  },
  {
   "cell_type": "code",
   "execution_count": 282,
   "metadata": {},
   "outputs": [
    {
     "data": {
      "text/plain": [
       "1"
      ]
     },
     "execution_count": 282,
     "metadata": {},
     "output_type": "execute_result"
    }
   ],
   "source": [
    "#mod\n",
    "10 % 3"
   ]
  },
  {
   "cell_type": "code",
   "execution_count": 283,
   "metadata": {},
   "outputs": [
    {
     "data": {
      "text/plain": [
       "5"
      ]
     },
     "execution_count": 283,
     "metadata": {},
     "output_type": "execute_result"
    }
   ],
   "source": [
    "#variables\n",
    "#can't start with numbers\n",
    "\n",
    "x=2\n",
    "y=3\n",
    "\n",
    "x+y"
   ]
  },
  {
   "cell_type": "code",
   "execution_count": 284,
   "metadata": {},
   "outputs": [
    {
     "name": "stdout",
     "output_type": "stream",
     "text": [
      "hello\n"
     ]
    }
   ],
   "source": [
    "#strings\n",
    "' single quote'\n",
    "\"this is a string\"\n",
    "' \"this is a string with double quotes\" '\n",
    "\" 'this is a string with single quotes' \"\n",
    "\n",
    "x = 'hello'\n",
    "print (x )"
   ]
  },
  {
   "cell_type": "code",
   "execution_count": 285,
   "metadata": {},
   "outputs": [
    {
     "name": "stdout",
     "output_type": "stream",
     "text": [
      "My name is Sam and my age is 12\n"
     ]
    }
   ],
   "source": [
    "#formatting strings\n",
    "age = 12\n",
    "name = 'Sam'\n",
    "print(\"My name is {} and my age is {}\".format(name, age))\n"
   ]
  },
  {
   "cell_type": "code",
   "execution_count": 286,
   "metadata": {},
   "outputs": [
    {
     "name": "stdout",
     "output_type": "stream",
     "text": [
      "My name is Sam and my age is 12. Just to remind you my name is Sam\n"
     ]
    }
   ],
   "source": [
    "#named placeholders\n",
    "print(\"My name is {x} and my age is {y}. Just to remind you my name is {z}\".format(x=name, y= age, z=name))\n"
   ]
  },
  {
   "cell_type": "code",
   "execution_count": 287,
   "metadata": {},
   "outputs": [
    {
     "name": "stdout",
     "output_type": "stream",
     "text": [
      "h\n",
      "o\n",
      "el\n"
     ]
    }
   ],
   "source": [
    "#indexing starts at 0\n",
    "#string is just a sequnce of chars\n",
    "s = \"hello\"\n",
    "print(s[0])\n",
    "print(s[4])\n",
    "\n",
    "#slice notation\n",
    "print(s[1:3]) #upto but not including 3rd position\n"
   ]
  },
  {
   "cell_type": "code",
   "execution_count": 288,
   "metadata": {},
   "outputs": [
    {
     "name": "stdout",
     "output_type": "stream",
     "text": [
      "ho\n"
     ]
    }
   ],
   "source": [
    "#reverse a string\n",
    "s = \"hello\"\n",
    "\n",
    "print(s[::4])\n"
   ]
  },
  {
   "cell_type": "code",
   "execution_count": 294,
   "metadata": {},
   "outputs": [
    {
     "name": "stdout",
     "output_type": "stream",
     "text": [
      "[1, 2, 3]\n",
      "['a', 'b', 'c']\n",
      "['a', 'b', 'c', 2]\n",
      "['b']\n",
      "['a', 'b', 'c', 2]\n"
     ]
    }
   ],
   "source": [
    "#lists\n",
    "a = [1,2,3]\n",
    "#or\n",
    "b = ['a','b','c']\n",
    "\n",
    "print(a)\n",
    "print (b)\n",
    "b.append(2)\n",
    "print(b)\n",
    "\n",
    "print(b[1:2])\n",
    "print(b)"
   ]
  },
  {
   "cell_type": "code",
   "execution_count": 295,
   "metadata": {},
   "outputs": [
    {
     "name": "stdout",
     "output_type": "stream",
     "text": [
      "4\n"
     ]
    }
   ],
   "source": [
    "#nesting lists\n",
    "nest = [1,2,[3,4]]\n",
    "\n",
    "print(nest[2][1])"
   ]
  },
  {
   "cell_type": "code",
   "execution_count": 298,
   "metadata": {},
   "outputs": [
    {
     "name": "stdout",
     "output_type": "stream",
     "text": [
      "{'key1': 'val1', 'key2': 123}\n"
     ]
    }
   ],
   "source": [
    "#Dictionaries\n",
    "new_dict= {'key1': 'val1', 'key2':123}\n",
    "print(new_dict)"
   ]
  },
  {
   "cell_type": "code",
   "execution_count": 302,
   "metadata": {},
   "outputs": [
    {
     "name": "stdout",
     "output_type": "stream",
     "text": [
      "[1, 2, 3]\n"
     ]
    }
   ],
   "source": [
    "d = {'k1':[1,2,3]}\n",
    "my_list= d['k1']\n",
    "print(my_list)"
   ]
  },
  {
   "cell_type": "code",
   "execution_count": 304,
   "metadata": {},
   "outputs": [
    {
     "name": "stdout",
     "output_type": "stream",
     "text": [
      "True\n",
      "False\n"
     ]
    }
   ],
   "source": [
    "#Booleans\n",
    "print(True)\n",
    "print(False)"
   ]
  },
  {
   "cell_type": "code",
   "execution_count": 308,
   "metadata": {},
   "outputs": [
    {
     "name": "stdout",
     "output_type": "stream",
     "text": [
      "(1, 2, 3)\n",
      "1\n"
     ]
    }
   ],
   "source": [
    "#Tuple\n",
    "s = (1,2,3)\n",
    "print(s)\n",
    "print(s[0])\n",
    "\n",
    "#s[0] =3 # this is an error because tuples are immutable. They cannot be changed\n",
    "#Thats the differnce between a tuple and a list"
   ]
  },
  {
   "cell_type": "code",
   "execution_count": 309,
   "metadata": {},
   "outputs": [
    {
     "name": "stdout",
     "output_type": "stream",
     "text": [
      "{1, 2, 3, 4, 5}\n"
     ]
    }
   ],
   "source": [
    "#Set only has unique elements\n",
    "print(set([1,2,3,4,5,4,3,2]))\n"
   ]
  },
  {
   "cell_type": "code",
   "execution_count": 310,
   "metadata": {},
   "outputs": [
    {
     "name": "stdout",
     "output_type": "stream",
     "text": [
      "{11, 12, 13}\n"
     ]
    }
   ],
   "source": [
    "s = {11,11,12,13}\n",
    "print(s)"
   ]
  },
  {
   "cell_type": "code",
   "execution_count": 311,
   "metadata": {},
   "outputs": [
    {
     "data": {
      "text/plain": [
       "False"
      ]
     },
     "execution_count": 311,
     "metadata": {},
     "output_type": "execute_result"
    }
   ],
   "source": [
    "#compairson ops\n",
    "1 ==2"
   ]
  },
  {
   "cell_type": "code",
   "execution_count": 312,
   "metadata": {},
   "outputs": [
    {
     "data": {
      "text/plain": [
       "True"
      ]
     },
     "execution_count": 312,
     "metadata": {},
     "output_type": "execute_result"
    }
   ],
   "source": [
    "1<2"
   ]
  },
  {
   "cell_type": "code",
   "execution_count": 313,
   "metadata": {},
   "outputs": [
    {
     "data": {
      "text/plain": [
       "True"
      ]
     },
     "execution_count": 313,
     "metadata": {},
     "output_type": "execute_result"
    }
   ],
   "source": [
    "1<2 and 2<3"
   ]
  },
  {
   "cell_type": "code",
   "execution_count": 314,
   "metadata": {},
   "outputs": [
    {
     "data": {
      "text/plain": [
       "False"
      ]
     },
     "execution_count": 314,
     "metadata": {},
     "output_type": "execute_result"
    }
   ],
   "source": [
    "1<2 and 2>3"
   ]
  },
  {
   "cell_type": "code",
   "execution_count": 315,
   "metadata": {},
   "outputs": [
    {
     "data": {
      "text/plain": [
       "False"
      ]
     },
     "execution_count": 315,
     "metadata": {},
     "output_type": "execute_result"
    }
   ],
   "source": [
    "1 !=1 "
   ]
  },
  {
   "cell_type": "code",
   "execution_count": 316,
   "metadata": {},
   "outputs": [
    {
     "data": {
      "text/plain": [
       "True"
      ]
     },
     "execution_count": 316,
     "metadata": {},
     "output_type": "execute_result"
    }
   ],
   "source": [
    "1 == 1 or 2<3"
   ]
  },
  {
   "cell_type": "code",
   "execution_count": 318,
   "metadata": {},
   "outputs": [
    {
     "name": "stdout",
     "output_type": "stream",
     "text": [
      "yep!\n",
      "This will always be true\n"
     ]
    }
   ],
   "source": [
    "#conditional operators\n",
    "if 1 < 2:\n",
    "    print(\"yep!\")\n",
    "\n",
    "if True:\n",
    "    print(\"This will always be true\")"
   ]
  },
  {
   "cell_type": "code",
   "execution_count": 319,
   "metadata": {},
   "outputs": [
    {
     "name": "stdout",
     "output_type": "stream",
     "text": [
      "this looks better\n",
      "Looks right now\n"
     ]
    }
   ],
   "source": [
    "if 1>2:\n",
    "    print(\"No way\")\n",
    "else:\n",
    "    print(\"this looks better\")\n",
    "\n",
    "if 1>2:\n",
    "    print(\"No way\")\n",
    "elif 2>1:\n",
    "    print(\"Looks right now\")\n",
    "else:\n",
    "    print(\"this looks better\")\n"
   ]
  },
  {
   "cell_type": "code",
   "execution_count": 320,
   "metadata": {},
   "outputs": [
    {
     "name": "stdout",
     "output_type": "stream",
     "text": [
      "1\n",
      "2\n",
      "3\n",
      "4\n",
      "5\n"
     ]
    }
   ],
   "source": [
    "#for loops\n",
    "seq = [1,2,3,4,5]\n",
    "\n",
    "for item in seq:\n",
    "    print (item)"
   ]
  },
  {
   "cell_type": "code",
   "execution_count": 321,
   "metadata": {},
   "outputs": [
    {
     "name": "stdout",
     "output_type": "stream",
     "text": [
      "hello\n",
      "hello\n",
      "hello\n",
      "hello\n",
      "hello\n"
     ]
    }
   ],
   "source": [
    "seq = [1,2,3,4,5]\n",
    "\n",
    "#You don't have to use the items, just the count\n",
    "for item in seq:\n",
    "    print (\"hello\")"
   ]
  },
  {
   "cell_type": "code",
   "execution_count": 322,
   "metadata": {},
   "outputs": [
    {
     "name": "stdout",
     "output_type": "stream",
     "text": [
      "i is: 1\n",
      "i is: 2\n",
      "i is: 3\n",
      "i is: 4\n"
     ]
    }
   ],
   "source": [
    "#while a condition is true\n",
    "i = 1\n",
    "\n",
    "while i < 5:\n",
    "    print (\"i is: {}\".format(i))\n",
    "    i = i+1"
   ]
  },
  {
   "cell_type": "code",
   "execution_count": 323,
   "metadata": {},
   "outputs": [
    {
     "name": "stdout",
     "output_type": "stream",
     "text": [
      "0\n",
      "1\n",
      "2\n",
      "3\n",
      "4\n",
      "5\n",
      "6\n",
      "7\n",
      "8\n",
      "9\n"
     ]
    }
   ],
   "source": [
    "#range \n",
    "for x in range(0,10):\n",
    "    print (x)"
   ]
  },
  {
   "cell_type": "code",
   "execution_count": 324,
   "metadata": {},
   "outputs": [
    {
     "name": "stdout",
     "output_type": "stream",
     "text": [
      "0\n",
      "1\n",
      "2\n",
      "3\n",
      "4\n",
      "5\n",
      "6\n",
      "7\n",
      "8\n",
      "9\n"
     ]
    }
   ],
   "source": [
    "for x in range(10):\n",
    "    print (x)"
   ]
  },
  {
   "cell_type": "code",
   "execution_count": 325,
   "metadata": {},
   "outputs": [
    {
     "data": {
      "text/plain": [
       "[0, 1, 2, 3, 4, 5, 6, 7, 8, 9]"
      ]
     },
     "execution_count": 325,
     "metadata": {},
     "output_type": "execute_result"
    }
   ],
   "source": [
    "#list comprehension\n",
    "list(range(10))"
   ]
  },
  {
   "cell_type": "code",
   "execution_count": 326,
   "metadata": {},
   "outputs": [
    {
     "name": "stdout",
     "output_type": "stream",
     "text": [
      "[1, 4, 9, 16]\n"
     ]
    }
   ],
   "source": [
    "x = [1,2,3,4]\n",
    "out = []\n",
    "\n",
    "for num in x:\n",
    "    out.append(num **2)\n",
    "\n",
    "print(out)"
   ]
  },
  {
   "cell_type": "code",
   "execution_count": 327,
   "metadata": {},
   "outputs": [
    {
     "data": {
      "text/plain": [
       "[1, 4, 9, 16]"
      ]
     },
     "execution_count": 327,
     "metadata": {},
     "output_type": "execute_result"
    }
   ],
   "source": [
    "# this is a list comprehension\n",
    "[ num ** 2 for num in x]"
   ]
  },
  {
   "cell_type": "code",
   "execution_count": 328,
   "metadata": {},
   "outputs": [
    {
     "name": "stdout",
     "output_type": "stream",
     "text": [
      "hello\n"
     ]
    }
   ],
   "source": [
    "#functions\n",
    "#keyword is def\n",
    "\n",
    "def my_func(param1):\n",
    "    print(param1)\n",
    "\n",
    "my_func(\"hello\")\n"
   ]
  },
  {
   "cell_type": "code",
   "execution_count": 331,
   "metadata": {},
   "outputs": [
    {
     "name": "stdout",
     "output_type": "stream",
     "text": [
      "Hello Sam\n"
     ]
    }
   ],
   "source": [
    "def my_func(param1):\n",
    "    print(\"Hello \" + param1)\n",
    "\n",
    "my_func(\"Sam\")\n"
   ]
  },
  {
   "cell_type": "code",
   "execution_count": 334,
   "metadata": {},
   "outputs": [
    {
     "name": "stdout",
     "output_type": "stream",
     "text": [
      "Hello Sam\n",
      "Hello tom\n"
     ]
    },
    {
     "data": {
      "text/plain": [
       "<function __main__.my_func(name='tom')>"
      ]
     },
     "execution_count": 334,
     "metadata": {},
     "output_type": "execute_result"
    }
   ],
   "source": [
    "#default param\n",
    "\n",
    "def my_func(name = \"tom\"):\n",
    "    print(\"Hello \" + name)\n",
    "\n",
    "my_func(\"Sam\")\n",
    "my_func()\n",
    "my_func"
   ]
  },
  {
   "cell_type": "code",
   "execution_count": 335,
   "metadata": {},
   "outputs": [
    {
     "name": "stdout",
     "output_type": "stream",
     "text": [
      "4\n"
     ]
    }
   ],
   "source": [
    "#return a value \n",
    "def square(num):\n",
    "    \"square function\"\n",
    "    return num*2\n",
    "\n",
    "output = square(2)\n",
    "\n",
    "print(output)\n"
   ]
  },
  {
   "cell_type": "code",
   "execution_count": 338,
   "metadata": {},
   "outputs": [
    {
     "name": "stdout",
     "output_type": "stream",
     "text": [
      "[2, 4, 6, 8, 10]\n"
     ]
    }
   ],
   "source": [
    "#map function\n",
    "\n",
    "seq = [1,2,3,4,5]\n",
    "\n",
    "print(list(map(square, seq)))"
   ]
  },
  {
   "cell_type": "code",
   "execution_count": 340,
   "metadata": {},
   "outputs": [
    {
     "name": "stdout",
     "output_type": "stream",
     "text": [
      "[2, 4, 6, 8, 10]\n"
     ]
    }
   ],
   "source": [
    "#Lambda expressions\n",
    "# also known as anonymous function\n",
    "def square(num):\n",
    "    \"square function\"\n",
    "    return num*2\n",
    "\n",
    "#or\n",
    "\n",
    "def square(num):return num*2\n",
    "\n",
    "#but the lambda strips out the not needed items\n",
    "\n",
    "lambda var: var*2\n",
    "\n",
    "print(list(map(lambda var: var*2, seq)))\n",
    " "
   ]
  },
  {
   "cell_type": "code",
   "execution_count": 342,
   "metadata": {},
   "outputs": [
    {
     "data": {
      "text/plain": [
       "[2, 4]"
      ]
     },
     "execution_count": 342,
     "metadata": {},
     "output_type": "execute_result"
    }
   ],
   "source": [
    "#filter function\n",
    "#instead of mapping elements into a sequence, we will filter out items\n",
    "\n",
    "filter(lambda num:num%2==0, seq)\n",
    "#if you want the result back you have to convert it to a list\n",
    "\n",
    "list(filter(lambda num:num%2==0, seq))\n"
   ]
  },
  {
   "cell_type": "code",
   "execution_count": 353,
   "metadata": {},
   "outputs": [
    {
     "name": "stdout",
     "output_type": "stream",
     "text": [
      "my name is john\n",
      "MY NAME IS JOHN\n",
      "My name is John\n",
      "['My', 'name', 'is', 'John']\n",
      "['Wow the weather is good ', 'Climate ', 'germany']\n",
      "Climate \n",
      "germany\n"
     ]
    }
   ],
   "source": [
    "#methods\n",
    "# methods are calls you can make of an object that will affect the object \n",
    "#or return something\n",
    "\n",
    "s = 'My name is John'\n",
    "print(s.lower())\n",
    "print(s.upper())\n",
    "print(s)\n",
    "\n",
    "print(s.split())\n",
    "\n",
    "s = 'Wow the weather is good #Climate #germany'\n",
    "\n",
    "print(s.split('#'))\n",
    "print(s.split('#')[1])\n",
    "print(s.split('#')[2])\n"
   ]
  },
  {
   "cell_type": "code",
   "execution_count": 364,
   "metadata": {},
   "outputs": [
    {
     "name": "stdout",
     "output_type": "stream",
     "text": [
      "{'k1': 31, 'k2': 42}\n",
      "dict_keys(['k1', 'k2'])\n",
      "dict_items([('k1', 31), ('k2', 42)])\n",
      "dict_values([31, 42])\n",
      "42\n",
      "{'k1': 31}\n",
      "('k1', 31)\n",
      "{}\n"
     ]
    }
   ],
   "source": [
    "d = {'k1':31, 'k2': 42}\n",
    "print(d)\n",
    "\n",
    "print(d.keys())\n",
    "print(d.items())\n",
    "print(d.values())\n",
    "print(d.pop('k2'))\n",
    "print(d)\n",
    "print(d.popitem())\n",
    "print(d)"
   ]
  },
  {
   "cell_type": "code",
   "execution_count": 368,
   "metadata": {},
   "outputs": [
    {
     "name": "stdout",
     "output_type": "stream",
     "text": [
      "[1, 2, 3]\n",
      "[1, 2]\n",
      "[1, 2, 54]\n",
      "[1, 2]\n",
      "[2]\n"
     ]
    }
   ],
   "source": [
    "lst = [1,2,3]\n",
    "print(lst)\n",
    "lst.pop()\n",
    "print(lst)\n",
    "\n",
    "lst.append(54)\n",
    "print(lst)\n",
    "lst.pop()\n",
    "print(lst)\n",
    "lst.pop(0)\n",
    "print(lst)\n"
   ]
  },
  {
   "cell_type": "code",
   "execution_count": 369,
   "metadata": {},
   "outputs": [
    {
     "data": {
      "text/plain": [
       "False"
      ]
     },
     "execution_count": 369,
     "metadata": {},
     "output_type": "execute_result"
    }
   ],
   "source": [
    "'x' in lst"
   ]
  },
  {
   "cell_type": "code",
   "execution_count": 370,
   "metadata": {},
   "outputs": [
    {
     "data": {
      "text/plain": [
       "True"
      ]
     },
     "execution_count": 370,
     "metadata": {},
     "output_type": "execute_result"
    }
   ],
   "source": [
    "'x' in ['x', 'y', 'z']"
   ]
  },
  {
   "cell_type": "code",
   "execution_count": 372,
   "metadata": {},
   "outputs": [
    {
     "name": "stdout",
     "output_type": "stream",
     "text": [
      "1\n",
      "(1, 2)\n",
      "(3, 4)\n",
      "(5, 6)\n"
     ]
    }
   ],
   "source": [
    "#Tuple unpacking\n",
    "\n",
    "x = [(1,2), (3,4), (5,6)]\n",
    "\n",
    "print(x[0][0])\n",
    "\n",
    "#or\n",
    "\n",
    "for item in x:\n",
    "    print(item)\n",
    "\n"
   ]
  },
  {
   "cell_type": "code",
   "execution_count": 373,
   "metadata": {},
   "outputs": [
    {
     "name": "stdout",
     "output_type": "stream",
     "text": [
      "1\n",
      "3\n",
      "5\n"
     ]
    }
   ],
   "source": [
    "for (a,b) in x:\n",
    "    print(a)"
   ]
  },
  {
   "cell_type": "code",
   "execution_count": 374,
   "metadata": {},
   "outputs": [
    {
     "name": "stdout",
     "output_type": "stream",
     "text": [
      "2\n",
      "4\n",
      "6\n"
     ]
    }
   ],
   "source": [
    "for a,b in x:\n",
    "    print(b)"
   ]
  }
 ],
 "metadata": {
  "kernelspec": {
   "display_name": "Python 3.9.13 64-bit",
   "language": "python",
   "name": "python3"
  },
  "language_info": {
   "codemirror_mode": {
    "name": "ipython",
    "version": 3
   },
   "file_extension": ".py",
   "mimetype": "text/x-python",
   "name": "python",
   "nbconvert_exporter": "python",
   "pygments_lexer": "ipython3",
   "version": "3.9.13"
  },
  "orig_nbformat": 4,
  "vscode": {
   "interpreter": {
    "hash": "58a7adb925fad0fcfb2b36fcc1f8e609e3d9e25132165131da8adeeae136ae93"
   }
  }
 },
 "nbformat": 4,
 "nbformat_minor": 2
}
